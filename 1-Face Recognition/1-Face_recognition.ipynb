{
 "cells": [
  {
   "cell_type": "markdown",
   "metadata": {},
   "source": [
    "# Objective --- detect face in live video and draw box around face"
   ]
  },
  {
   "cell_type": "code",
   "execution_count": 1,
   "metadata": {},
   "outputs": [],
   "source": [
    "import cv2\n",
    "#cv2 is computer vision library\n",
    "#To install cv2 , use command pip install opencv-python\n",
    "\n",
    "import numpy as np\n",
    "#Numpy is python library to effeciently handle arrays\n",
    "#Since images are strored as arrays, we need numpy to hadle images\n",
    "\n",
    "import os\n",
    "#os is python library used to get operating system dependant functionality\n",
    "#Example - get list of all files in a directory, create folder, delete all files in folder"
   ]
  },
  {
   "cell_type": "code",
   "execution_count": 2,
   "metadata": {},
   "outputs": [
    {
     "name": "stdout",
     "output_type": "stream",
     "text": [
      "Escape hit, closing...\n"
     ]
    }
   ],
   "source": [
    "face_cascade = cv2.CascadeClassifier(os.getcwd()+'\\Data\\har_frontface.xml')\n",
    "#Rules to detect face in image\n",
    "#These rules are set using HaarClassifier\n",
    "\n",
    "\n",
    "cap = cv2.VideoCapture(0)\n",
    "# start video capture from video source 0 (web cam)\n",
    "# To use a video file as input \n",
    "# cap = cv2.VideoCapture('filename.mp4')\n",
    "\n",
    "while True:\n",
    "    _, img = cap.read()\n",
    "    # Read the frame\n",
    "    \n",
    "    gray = cv2.cvtColor(img, cv2.COLOR_BGR2GRAY)\n",
    "    # Convert to grayscale\n",
    "    \n",
    "    faces = face_cascade.detectMultiScale(gray, 1.3, 5)\n",
    "    # Detect the faces\n",
    "    \n",
    "    for (x, y, w, h) in faces:\n",
    "        cv2.rectangle(img, (x, y), (x+w, y+h), (255, 0, 0), 2)\n",
    "        # Draw the rectangle around each face\n",
    "    \n",
    "   \n",
    "    cv2.imshow('img', img)\n",
    "    # Display\n",
    "    \n",
    "    \n",
    "    k = cv2.waitKey(1)\n",
    "    if k%256 == 27:\n",
    "        # Stop if escape key is pressed\n",
    "        print(\"Escape hit, closing...\")  \n",
    "        break\n",
    "        \n",
    "# Release the VideoCapture object\n",
    "cap.release()\n",
    "cv2.destroyAllWindows()"
   ]
  },
  {
   "cell_type": "markdown",
   "metadata": {},
   "source": [
    "Har\n",
    ">Haar Feature Selection\n",
    ">Creating  Integral Images\n",
    ">Adaboost Training\n",
    ">Cascading Classifiers"
   ]
  }
 ],
 "metadata": {
  "kernelspec": {
   "display_name": "Python 3",
   "language": "python",
   "name": "python3"
  },
  "language_info": {
   "codemirror_mode": {
    "name": "ipython",
    "version": 3
   },
   "file_extension": ".py",
   "mimetype": "text/x-python",
   "name": "python",
   "nbconvert_exporter": "python",
   "pygments_lexer": "ipython3",
   "version": "3.7.6"
  }
 },
 "nbformat": 4,
 "nbformat_minor": 4
}
