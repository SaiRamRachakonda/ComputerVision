{
 "cells": [
  {
   "cell_type": "code",
   "execution_count": 4,
   "metadata": {},
   "outputs": [
    {
     "name": "stdout",
     "output_type": "stream",
     "text": [
      "Collecting opencv-python\n",
      "  Downloading opencv_python-4.2.0.34-cp37-cp37m-win_amd64.whl (33.0 MB)\n",
      "Requirement already satisfied: numpy>=1.14.5 in c:\\anaconda3\\lib\\site-packages (from opencv-python) (1.18.1)\n",
      "Installing collected packages: opencv-python\n",
      "Successfully installed opencv-python-4.2.0.34\n",
      "Note: you may need to restart the kernel to use updated packages.\n"
     ]
    }
   ],
   "source": [
    "#pip install opencv-python\n",
    "#pip install chrono\n",
    "#pip install numpy"
   ]
  },
  {
   "cell_type": "code",
   "execution_count": 38,
   "metadata": {},
   "outputs": [],
   "source": [
    "import shutil\n",
    "import face_recognition\n",
    "import cv2\n",
    "import numpy as np\n",
    "import glob\n",
    "import os\n",
    "import logging\n",
    "from datetime import datetime,timedelta\n",
    "import time\n",
    "import datetime\n",
    "from PIL import Image\n",
    "from chrono import Timer,time\n",
    "import pandas as pd"
   ]
  },
  {
   "cell_type": "code",
   "execution_count": 39,
   "metadata": {},
   "outputs": [],
   "source": [
    "wkngdir = os.getcwd()\n",
    "folder = wkngdir+\"/Results\"\n",
    "for filename in os.listdir(folder):\n",
    "    file_path = os.path.join(folder, filename)\n",
    "    try:\n",
    "        if os.path.isfile(file_path) or os.path.islink(file_path):\n",
    "            os.unlink(file_path)\n",
    "        elif os.path.isdir(file_path):\n",
    "            shutil.rmtree(file_path)\n",
    "    except Exception as e:\n",
    "        print('Failed to delete %s. Reason: %s' % (file_path, e))"
   ]
  },
  {
   "cell_type": "code",
   "execution_count": 40,
   "metadata": {},
   "outputs": [],
   "source": [
    "os.chdir(folder)\n",
    "persons_dir = \"uniquepersons\"\n",
    "video_out_dir = \"videoByPerson\"\n",
    "os.makedirs(video_out_dir,exist_ok=True)\n",
    "os.makedirs(persons_dir,exist_ok=True)\n",
    "\n",
    "os.chdir(wkngdir)\n",
    "persons_dir = \"Results//\"+persons_dir\n",
    "video_out_dir = \"Results//\"+video_out_dir\n",
    "\n",
    "video_capture = cv2.VideoCapture(0)\n",
    "data = pd.DataFrame(columns=['person','framecount'])\n",
    "\n",
    "count=0\n",
    "video_array = []"
   ]
  },
  {
   "cell_type": "code",
   "execution_count": 41,
   "metadata": {},
   "outputs": [],
   "source": [
    "def checktheframe(face_encodings,persons_dir):\n",
    "    matched = False\n",
    "    iter_t = 0\n",
    "    for filename in os.listdir(persons_dir):\n",
    "        path = os.path.join(persons_dir,filename)\n",
    "        filter_image = face_recognition.load_image_file(path)\n",
    "        filter_face_encoding = face_recognition.face_encodings(filter_image)\n",
    "        known_face_encodings.append(filter_face_encoding[0])\n",
    "        known_face_names.append(filename)\n",
    "        matches = face_recognition.compare_faces(known_face_encodings, face_encodings[0])\n",
    "        if True in matches:\n",
    "            matched = True\n",
    "            data['framecount'] += 1\n",
    "            video_array[iter_t].write(frame)\n",
    "            break;\n",
    "        iter_t = iter_t+1;       \n",
    "    return matched"
   ]
  },
  {
   "cell_type": "code",
   "execution_count": 42,
   "metadata": {},
   "outputs": [
    {
     "name": "stdout",
     "output_type": "stream",
     "text": [
      "Escape hit, closing...\n",
      "                            person framecount\n",
      "0  Results//uniquepersons\\person_0         24\n",
      "[<VideoWriter 000002558BD5F5F0>]\n"
     ]
    }
   ],
   "source": [
    "while True:\n",
    "    ret, frame = video_capture.read()\n",
    "    process_this_frame = True\n",
    "    cv2.imshow('frame',frame)\n",
    "    if cv2.waitKey(1) & 0xFF == ord('q'):\n",
    "        video_capture.release();\n",
    "        print(\"Escape hit, closing...\") \n",
    "        break\n",
    "    if not (ret):\n",
    "        logging.error(\"Could not read frame from camera. Stopping video capture.\")\n",
    "        break\n",
    "   \n",
    "    small_frame = cv2.resize(frame, (0, 0), fx=0.25, fy=0.25)\n",
    "    rgb_small_frame = small_frame[:, :, ::-1]\n",
    "\n",
    "    height, width, layers = frame.shape\n",
    "    size = (width,height)\n",
    "    if process_this_frame:\n",
    "        face_locations = face_recognition.face_locations(rgb_small_frame)\n",
    "        face_encodings = face_recognition.face_encodings(rgb_small_frame, face_locations)\n",
    "        if len(face_encodings) > 0:\n",
    "            matched = checktheframe(face_encodings,persons_dir)\n",
    "            if matched == False:\n",
    "                cv2.imwrite(os.path.join(persons_dir,\"person_\"+str(count)+\".jpg\"),frame)\n",
    "                data = data.append({'person':os.path.join(persons_dir,\"person_\"+str(count)),'framecount':1},ignore_index=True)  \n",
    "                temp_video = cv2.VideoWriter(os.path.join(video_out_dir,\"videoex_\"+str(count)+\".avi\"),\n",
    "                                             cv2.VideoWriter_fourcc(*'DIVX'),15,size,isColor = True)\n",
    "                video_array.append(temp_video)\n",
    "                count+=1\n",
    "            \n",
    "          \n",
    "cv2.destroyAllWindows();\n",
    "data.to_excel(\"VideoAnalysis1.xlsx\")\n",
    "for t in video_array:\n",
    "    t.release()\n",
    "            \n",
    "print(data)\n",
    "print(video_array)\n"
   ]
  },
  {
   "cell_type": "code",
   "execution_count": 26,
   "metadata": {},
   "outputs": [],
   "source": [
    "video_capture.release();\n",
    "cv2.destroyAllWindows();"
   ]
  },
  {
   "cell_type": "code",
   "execution_count": null,
   "metadata": {},
   "outputs": [],
   "source": []
  }
 ],
 "metadata": {
  "kernelspec": {
   "display_name": "Python 3",
   "language": "python",
   "name": "python3"
  },
  "language_info": {
   "codemirror_mode": {
    "name": "ipython",
    "version": 3
   },
   "file_extension": ".py",
   "mimetype": "text/x-python",
   "name": "python",
   "nbconvert_exporter": "python",
   "pygments_lexer": "ipython3",
   "version": "3.7.6"
  }
 },
 "nbformat": 4,
 "nbformat_minor": 2
}
