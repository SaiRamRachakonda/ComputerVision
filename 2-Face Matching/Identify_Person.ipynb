{
 "cells": [
  {
   "cell_type": "code",
   "execution_count": 4,
   "metadata": {},
   "outputs": [
    {
     "name": "stdout",
     "output_type": "stream",
     "text": [
      "Collecting opencv-python\n",
      "  Downloading opencv_python-4.2.0.34-cp37-cp37m-win_amd64.whl (33.0 MB)\n",
      "Requirement already satisfied: numpy>=1.14.5 in c:\\anaconda3\\lib\\site-packages (from opencv-python) (1.18.1)\n",
      "Installing collected packages: opencv-python\n",
      "Successfully installed opencv-python-4.2.0.34\n",
      "Note: you may need to restart the kernel to use updated packages.\n"
     ]
    }
   ],
   "source": [
    "#pip install opencv-python\n",
    "#pip install chrono\n",
    "#pip install numpy"
   ]
  },
  {
   "cell_type": "code",
   "execution_count": 1,
   "metadata": {},
   "outputs": [],
   "source": [
    "import face_recognition\n",
    "import cv2\n",
    "\n",
    "wkngdir = os.getcwd()\n",
    "folder = wkngdir+\"/Results/uniquepersons\"\n",
    "\n",
    "known_faces = []\n",
    "for filename in os.listdir(folder):\n",
    "    file_path = os.path.join(folder, filename)\n",
    "    try:\n",
    "        lmm_image = face_recognition.load_image_file(file_path)\n",
    "        lmm_face_encoding = face_recognition.face_encodings(lmm_image)[0]\n",
    "        known_faces.append(lmm_face_encoding)\n",
    "    except Exception as e:\n",
    "        print('Failed to delete %s. Reason: %s' % (file_path, e))\n",
    "\n",
    "        \n",
    "# Initialize some variables\n",
    "face_locations = []\n",
    "face_encodings = []\n",
    "face_names = []\n",
    "frame_number = 0\n",
    "\n",
    "while True:\n",
    "    # Grab a single frame of video\n",
    "    ret, frame = input_movie.read()\n",
    "    frame_number += 1\n",
    "\n",
    "    # Quit when the input video file ends\n",
    "    if not ret:\n",
    "        break\n",
    "\n",
    "    # Convert the image from BGR color (which OpenCV uses) to RGB color (which face_recognition uses)\n",
    "    rgb_frame = frame[:, :, ::-1]\n",
    "\n",
    "    # Find all the faces and face encodings in the current frame of video\n",
    "    face_locations = face_recognition.face_locations(rgb_frame)\n",
    "    face_encodings = face_recognition.face_encodings(rgb_frame, face_locations)\n",
    "\n",
    "    face_names = []\n",
    "    for face_encoding in face_encodings:\n",
    "        # See if the face is a match for the known face(s)\n",
    "        match = face_recognition.compare_faces(known_faces, face_encoding, tolerance=0.50)\n",
    "\n",
    "        # If you had more than 2 faces, you could make this logic a lot prettier\n",
    "        # but I kept it simple for the demo\n",
    "        name = None\n",
    "        if match[0]:\n",
    "            name = \"Lin-Manuel Miranda\"\n",
    "        elif match[1]:\n",
    "            name = \"Alex Lacamoire\"\n",
    "\n",
    "        face_names.append(name)\n",
    "\n",
    "    # Label the results\n",
    "    for (top, right, bottom, left), name in zip(face_locations, face_names):\n",
    "        if not name:\n",
    "            continue\n",
    "\n",
    "        # Draw a box around the face\n",
    "        cv2.rectangle(frame, (left, top), (right, bottom), (0, 0, 255), 2)\n",
    "\n",
    "        # Draw a label with a name below the face\n",
    "        cv2.rectangle(frame, (left, bottom - 25), (right, bottom), (0, 0, 255), cv2.FILLED)\n",
    "        font = cv2.FONT_HERSHEY_DUPLEX\n",
    "        cv2.putText(frame, name, (left + 6, bottom - 6), font, 0.5, (255, 255, 255), 1)\n",
    "\n",
    "    # Write the resulting image to the output video file\n",
    "    print(\"Writing frame {} / {}\".format(frame_number, length))\n",
    "    output_movie.write(frame)\n",
    "\n",
    "# All done!\n",
    "input_movie.release()\n",
    "cv2.destroyAllWindows()"
   ]
  },
  {
   "cell_type": "code",
   "execution_count": 35,
   "metadata": {},
   "outputs": [],
   "source": [
    "os.chdir(folder)\n",
    "video_out_dir = \"videoByPerson\"\n",
    "os.makedirs(video_out_dir,exist_ok=True)\n",
    "os.chdir(wkngdir)\n",
    "video_out_dir = \"Results2//\"+video_out_dir\n",
    "\n",
    "video_capture = cv2.VideoCapture(0)\n",
    "data = pd.DataFrame(columns=['person','framecount'])\n",
    "\n",
    "count=0\n",
    "video_array = []"
   ]
  },
  {
   "cell_type": "code",
   "execution_count": 36,
   "metadata": {},
   "outputs": [],
   "source": [
    "def checktheframe(face_encodings,persons_dir):\n",
    "    matched = False\n",
    "    iter_t = 0\n",
    "    for filename in os.listdir(persons_dir):\n",
    "        path = os.path.join(persons_dir,filename)\n",
    "        filter_image = face_recognition.load_image_file(path)\n",
    "        filter_face_encoding = face_recognition.face_encodings(filter_image)\n",
    "        known_face_encodings.append(filter_face_encoding[0])\n",
    "        known_face_names.append(filename)\n",
    "        matches = face_recognition.compare_faces(known_face_encodings, face_encodings[0])\n",
    "        if True in matches:\n",
    "            matched = True\n",
    "            data['framecount'] += 1\n",
    "            video_array[iter_t].write(frame)\n",
    "            break;\n",
    "        iter_t = iter_t+1;       \n",
    "    return matched"
   ]
  },
  {
   "cell_type": "code",
   "execution_count": 37,
   "metadata": {},
   "outputs": [
    {
     "name": "stdout",
     "output_type": "stream",
     "text": [
      "Escape hit, closing...\n",
      "                            person framecount\n",
      "0  Results//uniquepersons\\person_0          5\n",
      "[<VideoWriter 000002558A481270>]\n"
     ]
    }
   ],
   "source": [
    "while True:\n",
    "    ret, frame = video_capture.read()\n",
    "    process_this_frame = True\n",
    "    cv2.imshow('frame',frame)\n",
    "    if cv2.waitKey(1) & 0xFF == ord('q'):\n",
    "        video_capture.release();\n",
    "        print(\"Escape hit, closing...\") \n",
    "        break\n",
    "    if not (ret):\n",
    "        logging.error(\"Could not read frame from camera. Stopping video capture.\")\n",
    "        break\n",
    "   \n",
    "    small_frame = cv2.resize(frame, (0, 0), fx=0.25, fy=0.25)\n",
    "    rgb_small_frame = small_frame[:, :, ::-1]\n",
    "\n",
    "    height, width, layers = frame.shape\n",
    "    size = (width,height)\n",
    "    if process_this_frame:\n",
    "        face_locations = face_recognition.face_locations(rgb_small_frame)\n",
    "        face_encodings = face_recognition.face_encodings(rgb_small_frame, face_locations)\n",
    "        if len(face_encodings) > 0:\n",
    "            matched = checktheframe(face_encodings,persons_dir)\n",
    "            if matched == False:\n",
    "                cv2.imwrite(os.path.join(persons_dir,\"person_\"+str(count)+\".jpg\"),frame)\n",
    "                data = data.append({'person':os.path.join(persons_dir,\"person_\"+str(count)),'framecount':1},ignore_index=True)  \n",
    "                temp_video = cv2.VideoWriter(os.path.join(video_out_dir,\"videoex_\"+str(count)+\".avi\"),\n",
    "                                             cv2.VideoWriter_fourcc(*'DIVX'),15,size,isColor = True)\n",
    "                video_array.append(temp_video)\n",
    "                count+=1\n",
    "            \n",
    "          \n",
    "cv2.destroyAllWindows();\n",
    "data.to_excel(\"VideoAnalysis1.xlsx\")\n",
    "for t in video_array:\n",
    "    t.release()\n",
    "            \n",
    "print(data)\n",
    "print(video_array)\n"
   ]
  },
  {
   "cell_type": "code",
   "execution_count": 26,
   "metadata": {},
   "outputs": [],
   "source": [
    "video_capture.release();\n",
    "cv2.destroyAllWindows();"
   ]
  },
  {
   "cell_type": "code",
   "execution_count": null,
   "metadata": {},
   "outputs": [],
   "source": []
  }
 ],
 "metadata": {
  "kernelspec": {
   "display_name": "Python 3",
   "language": "python",
   "name": "python3"
  },
  "language_info": {
   "codemirror_mode": {
    "name": "ipython",
    "version": 3
   },
   "file_extension": ".py",
   "mimetype": "text/x-python",
   "name": "python",
   "nbconvert_exporter": "python",
   "pygments_lexer": "ipython3",
   "version": "3.7.6"
  }
 },
 "nbformat": 4,
 "nbformat_minor": 2
}
